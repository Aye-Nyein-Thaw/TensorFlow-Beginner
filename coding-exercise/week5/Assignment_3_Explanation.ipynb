{
  "nbformat": 4,
  "nbformat_minor": 0,
  "metadata": {
    "colab": {
      "name": "Assignment 3 Explanation.ipynb",
      "provenance": [],
      "collapsed_sections": [],
      "include_colab_link": true
    },
    "kernelspec": {
      "display_name": "Python 3",
      "language": "python",
      "name": "python3"
    },
    "language_info": {
      "codemirror_mode": {
        "name": "ipython",
        "version": 3
      },
      "file_extension": ".py",
      "mimetype": "text/x-python",
      "name": "python",
      "nbconvert_exporter": "python",
      "pygments_lexer": "ipython3",
      "version": "3.7.6"
    }
  },
  "cells": [
    {
      "cell_type": "markdown",
      "metadata": {
        "id": "view-in-github",
        "colab_type": "text"
      },
      "source": [
        "<a href=\"https://colab.research.google.com/github/Aye-Nyein-Thaw/TensorFlow-Beginner/blob/main/coding-exercise/week5/Assignment_3_Explanation.ipynb\" target=\"_parent\"><img src=\"https://colab.research.google.com/assets/colab-badge.svg\" alt=\"Open In Colab\"/></a>"
      ]
    },
    {
      "cell_type": "code",
      "metadata": {
        "id": "BmXJVtDRL2KY"
      },
      "source": [
        "from tensorflow.keras import Sequential\n",
        "from tensorflow.keras.layers import Dense, Flatten, Conv2D, MaxPooling2D, Dropout"
      ],
      "execution_count": null,
      "outputs": []
    },
    {
      "cell_type": "code",
      "metadata": {
        "collapsed": true,
        "id": "CBCeaCqpL2Kd",
        "outputId": "88808b1c-4a4a-4047-ebc3-dae4511533c5"
      },
      "source": [
        "# Example 1 - Without Bias\n",
        "\n",
        "model = Sequential([\n",
        "    Dense(5, input_shape = (4,), use_bias = False),\n",
        "    Dense(3, use_bias = False)\n",
        "])\n",
        "\n",
        "model.summary()"
      ],
      "execution_count": null,
      "outputs": [
        {
          "output_type": "stream",
          "text": [
            "Model: \"sequential_1\"\n",
            "_________________________________________________________________\n",
            "Layer (type)                 Output Shape              Param #   \n",
            "=================================================================\n",
            "dense_2 (Dense)              (None, 5)                 20        \n",
            "_________________________________________________________________\n",
            "dense_3 (Dense)              (None, 3)                 15        \n",
            "=================================================================\n",
            "Total params: 35\n",
            "Trainable params: 35\n",
            "Non-trainable params: 0\n",
            "_________________________________________________________________\n"
          ],
          "name": "stdout"
        }
      ]
    },
    {
      "cell_type": "code",
      "metadata": {
        "collapsed": true,
        "id": "QN4i0PkGL2Kl",
        "outputId": "92c98946-a618-4eb8-becd-6451f7fc0118"
      },
      "source": [
        "# Example 1 - With Bias\n",
        "\n",
        "model = Sequential([\n",
        "    Dense(5, input_shape = (4,)),\n",
        "    Dense(3)\n",
        "])\n",
        "\n",
        "model.summary()"
      ],
      "execution_count": null,
      "outputs": [
        {
          "output_type": "stream",
          "text": [
            "Model: \"sequential_3\"\n",
            "_________________________________________________________________\n",
            "Layer (type)                 Output Shape              Param #   \n",
            "=================================================================\n",
            "dense_6 (Dense)              (None, 5)                 25        \n",
            "_________________________________________________________________\n",
            "dense_7 (Dense)              (None, 3)                 18        \n",
            "=================================================================\n",
            "Total params: 43\n",
            "Trainable params: 43\n",
            "Non-trainable params: 0\n",
            "_________________________________________________________________\n"
          ],
          "name": "stdout"
        }
      ]
    },
    {
      "cell_type": "code",
      "metadata": {
        "collapsed": true,
        "id": "1J-Yt0h-L2Ko",
        "outputId": "965d91e8-2d4b-444b-c3ff-ea52136b10b8"
      },
      "source": [
        "# Example 2 - With Bias\n",
        "\n",
        "model = Sequential([\n",
        "    Dense(3, input_shape = (3,)),\n",
        "    Dense(1)\n",
        "])\n",
        "\n",
        "model.summary()"
      ],
      "execution_count": null,
      "outputs": [
        {
          "output_type": "stream",
          "text": [
            "Model: \"sequential_9\"\n",
            "_________________________________________________________________\n",
            "Layer (type)                 Output Shape              Param #   \n",
            "=================================================================\n",
            "dense_16 (Dense)             (None, 3)                 9         \n",
            "_________________________________________________________________\n",
            "dense_17 (Dense)             (None, 1)                 3         \n",
            "=================================================================\n",
            "Total params: 12\n",
            "Trainable params: 12\n",
            "Non-trainable params: 0\n",
            "_________________________________________________________________\n"
          ],
          "name": "stdout"
        }
      ]
    },
    {
      "cell_type": "code",
      "metadata": {
        "collapsed": true,
        "id": "Ic_EZIeIL2Kr",
        "outputId": "39c8007f-5ca0-453a-e7b8-3777162cfa4d"
      },
      "source": [
        "# Example 3 - Flatten Layer (without Bias)\n",
        "\n",
        "model = Sequential([\n",
        "    Flatten(input_shape = (4,4)),\n",
        "    Dense(4, use_bias = False),\n",
        "    Dense(2, use_bias = False)\n",
        "])\n",
        "\n",
        "model.summary()"
      ],
      "execution_count": null,
      "outputs": [
        {
          "output_type": "stream",
          "text": [
            "Model: \"sequential_12\"\n",
            "_________________________________________________________________\n",
            "Layer (type)                 Output Shape              Param #   \n",
            "=================================================================\n",
            "flatten_5 (Flatten)          (None, 16)                0         \n",
            "_________________________________________________________________\n",
            "dense_22 (Dense)             (None, 4)                 64        \n",
            "_________________________________________________________________\n",
            "dense_23 (Dense)             (None, 2)                 8         \n",
            "=================================================================\n",
            "Total params: 72\n",
            "Trainable params: 72\n",
            "Non-trainable params: 0\n",
            "_________________________________________________________________\n"
          ],
          "name": "stdout"
        }
      ]
    },
    {
      "cell_type": "code",
      "metadata": {
        "collapsed": true,
        "id": "b2gOFLWdL2Ku",
        "outputId": "90ecfde4-93b3-4c70-cecd-e5a4b690b695"
      },
      "source": [
        "# Example 4 - CNN Model (with Bias)\n",
        "\n",
        "model = Sequential([\n",
        "    \n",
        "        Conv2D(16, (5,5), activation = 'relu', name = 'Conv_1', input_shape = (28,28,1)),\n",
        "        MaxPooling2D(2,2),\n",
        "        Conv2D(32, (5,5), activation = 'relu', name = 'Conv_2'),\n",
        "        MaxPooling2D(2,2),\n",
        "    \n",
        "        Flatten(),\n",
        "        Dense(128,activation = 'relu', name = 'fc_3'),\n",
        "        Dropout(0.3),\n",
        "        Dense(10, activation = 'softmax', name = 'fc_4')\n",
        "\n",
        "])\n",
        "\n",
        "model.summary()"
      ],
      "execution_count": null,
      "outputs": [
        {
          "output_type": "stream",
          "text": [
            "Model: \"sequential_8\"\n",
            "_________________________________________________________________\n",
            "Layer (type)                 Output Shape              Param #   \n",
            "=================================================================\n",
            "Conv_1 (Conv2D)              (None, 24, 24, 16)        416       \n",
            "_________________________________________________________________\n",
            "max_pooling2d_2 (MaxPooling2 (None, 12, 12, 16)        0         \n",
            "_________________________________________________________________\n",
            "Conv_2 (Conv2D)              (None, 8, 8, 32)          12832     \n",
            "_________________________________________________________________\n",
            "max_pooling2d_3 (MaxPooling2 (None, 4, 4, 32)          0         \n",
            "_________________________________________________________________\n",
            "flatten_2 (Flatten)          (None, 512)               0         \n",
            "_________________________________________________________________\n",
            "fc_3 (Dense)                 (None, 128)               65664     \n",
            "_________________________________________________________________\n",
            "dropout (Dropout)            (None, 128)               0         \n",
            "_________________________________________________________________\n",
            "fc_4 (Dense)                 (None, 10)                1290      \n",
            "=================================================================\n",
            "Total params: 80,202\n",
            "Trainable params: 80,202\n",
            "Non-trainable params: 0\n",
            "_________________________________________________________________\n"
          ],
          "name": "stdout"
        }
      ]
    }
  ]
}
