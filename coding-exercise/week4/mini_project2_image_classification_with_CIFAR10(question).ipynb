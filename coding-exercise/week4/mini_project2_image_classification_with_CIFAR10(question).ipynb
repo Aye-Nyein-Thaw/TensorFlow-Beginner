{
  "nbformat": 4,
  "nbformat_minor": 0,
  "metadata": {
    "kernelspec": {
      "display_name": "Python 3",
      "language": "python",
      "name": "python3"
    },
    "language_info": {
      "codemirror_mode": {
        "name": "ipython",
        "version": 3
      },
      "file_extension": ".py",
      "mimetype": "text/x-python",
      "name": "python",
      "nbconvert_exporter": "python",
      "pygments_lexer": "ipython3",
      "version": "3.7.0"
    },
    "colab": {
      "name": "mini-project2-image-classification-with-CIFAR10(question).ipynb",
      "provenance": [],
      "collapsed_sections": [
        "eMKP0rAgJEUj",
        "Wr6FavKbJEU8",
        "30s1eI2UJEVE",
        "VUguTvp2JEVH",
        "IUKNKsFdJEVK"
      ],
      "include_colab_link": true
    },
    "accelerator": "GPU"
  },
  "cells": [
    {
      "cell_type": "markdown",
      "metadata": {
        "id": "view-in-github",
        "colab_type": "text"
      },
      "source": [
        "<a href=\"https://colab.research.google.com/github/NyanSwanAung/TensorFlow-Beginner/blob/main/coding-exercise/week4/mini_project2_image_classification_with_CIFAR10(question).ipynb\" target=\"_parent\"><img src=\"https://colab.research.google.com/assets/colab-badge.svg\" alt=\"Open In Colab\"/></a>"
      ]
    },
    {
      "cell_type": "markdown",
      "metadata": {
        "id": "UF3RTNMMxh18"
      },
      "source": [
        "<figure>\n",
        "<center>\n",
        "<img src='https://raw.githubusercontent.com/alexsnowschool/TensorFlow-Beginner/main/project_img.png' width = '800px'/>\n",
        "</center>        \n",
        "</figure>"
      ]
    },
    {
      "cell_type": "markdown",
      "metadata": {
        "id": "UYbDL-8YJEUh"
      },
      "source": [
        "# Image Classification with CIFAR10 Dataset"
      ]
    },
    {
      "cell_type": "markdown",
      "metadata": {
        "id": "x6EK0Hm_ftRL"
      },
      "source": [
        "\n",
        "The CIFAR-10 dataset consists of 60000 32x32 colour images in 10 classes, with 6000 images per class.\n",
        "There are 50000 training images and 10000 test images.\n",
        "\n",
        "<figure>\n",
        "<center>\n",
        "<img src='https://raw.githubusercontent.com/NyanSwanAung/TensorFlow-Beginner/main/coding-exercise/week4/CIFAR10%20Dataset.png' width = '800px'/>\n",
        "</center>        \n",
        "</figure>"
      ]
    },
    {
      "cell_type": "markdown",
      "metadata": {
        "id": "eMKP0rAgJEUj"
      },
      "source": [
        "# Step 1: Import Libraries"
      ]
    },
    {
      "cell_type": "code",
      "metadata": {
        "id": "jeLo96TFJTfC",
        "outputId": "a764f84b-2bee-44be-8828-c7ef9a2457ea",
        "colab": {
          "base_uri": "https://localhost:8080/",
          "height": 34
        }
      },
      "source": [
        "from google.colab import drive\n",
        "drive.mount('/content/drive')"
      ],
      "execution_count": null,
      "outputs": [
        {
          "output_type": "stream",
          "text": [
            "Mounted at /content/drive\n"
          ],
          "name": "stdout"
        }
      ]
    },
    {
      "cell_type": "code",
      "metadata": {
        "id": "81lkepqrvwHw",
        "outputId": "e14cf798-d9ef-430d-eda2-2ca1661b5778",
        "colab": {
          "base_uri": "https://localhost:8080/",
          "height": 37
        }
      },
      "source": [
        "import os\n",
        "os.getcwd()"
      ],
      "execution_count": null,
      "outputs": [
        {
          "output_type": "execute_result",
          "data": {
            "application/vnd.google.colaboratory.intrinsic+json": {
              "type": "string"
            },
            "text/plain": [
              "'/content'"
            ]
          },
          "metadata": {
            "tags": []
          },
          "execution_count": 2
        }
      ]
    },
    {
      "cell_type": "code",
      "metadata": {
        "id": "KdY7RL0pJEUl",
        "outputId": "9fb6ba0a-c920-40dc-effd-4abeeec71448",
        "colab": {
          "base_uri": "https://localhost:8080/",
          "height": 122
        }
      },
      "source": [
        "import tensorflow as tf\n",
        "import os\n",
        "import numpy as np\n",
        "\n",
        "from matplotlib import pyplot as plt\n",
        "%matplotlib inline\n",
        "\n",
        "if not os.path.isdir('models'):\n",
        "    os.mkdir('models')\n",
        "    \n",
        "print('TensorFlow version:', tf.__version__)\n",
        "\n",
        "print('Is using GPU?', tf.test.is_gpu_available())"
      ],
      "execution_count": null,
      "outputs": [
        {
          "output_type": "stream",
          "text": [
            "TensorFlow version: 2.3.0\n",
            "WARNING:tensorflow:From <ipython-input-3-baeee846c934>:12: is_gpu_available (from tensorflow.python.framework.test_util) is deprecated and will be removed in a future version.\n",
            "Instructions for updating:\n",
            "Use `tf.config.list_physical_devices('GPU')` instead.\n",
            "Is using GPU? True\n"
          ],
          "name": "stdout"
        }
      ]
    },
    {
      "cell_type": "markdown",
      "metadata": {
        "id": "4ok5Q4lUJEUw"
      },
      "source": [
        "# Step 2: Preprocess Data\n",
        "\n",
        "Total = 50000 images\n",
        "\n",
        "X_Train = (15000, 32, 32, 3), Y_train = (15000, 3)\n",
        "\n",
        "X_Test = (3000, 32, 32, 3), Y_test = (3000, 3)\n"
      ]
    },
    {
      "cell_type": "markdown",
      "metadata": {
        "id": "VPmmPantepWc"
      },
      "source": [
        "### One-hot encoding \n",
        "\n",
        "After this encoding, every label will be converted to a list with 3 elements and the element at index to the corresponding class will be set to 1, rest will be set to 0:\n",
        "\n",
        "| original label | one-hot encoded label |\n",
        "|------|------|\n",
        "| Aeroplane : 0 | [1, 0, 0] |\n",
        "| Car : 1 | [0, 1, 0] |\n",
        "| Bird : 2 | [0, 0, 1] |"
      ]
    },
    {
      "cell_type": "code",
      "metadata": {
        "id": "wByEzy1oJEUy"
      },
      "source": [
        "def get_three_classes(x, y):\n",
        "    \n",
        "    return x, y"
      ],
      "execution_count": 1,
      "outputs": []
    },
    {
      "cell_type": "code",
      "metadata": {
        "id": "ArI84MbsJEU3"
      },
      "source": [
        ""
      ],
      "execution_count": null,
      "outputs": []
    },
    {
      "cell_type": "markdown",
      "metadata": {
        "id": "Wr6FavKbJEU8"
      },
      "source": [
        "# Step 3: Visualize Examples"
      ]
    },
    {
      "cell_type": "code",
      "metadata": {
        "id": "0oI-0_RoJEU9"
      },
      "source": [
        "\n",
        "       "
      ],
      "execution_count": 1,
      "outputs": []
    },
    {
      "cell_type": "code",
      "metadata": {
        "id": "aXEmmjAPJEVB",
        "outputId": "f8b59173-1e84-4362-e6c9-db07da48b0d8",
        "colab": {
          "base_uri": "https://localhost:8080/",
          "height": 289
        }
      },
      "source": [
        "show_random_examples(x_test, y_test, y_test)"
      ],
      "execution_count": null,
      "outputs": [
        {
          "output_type": "display_data",
          "data": {
            "image/png": "[encoded data removed]",
            "text/plain": [
              "<Figure size 720x360 with 10 Axes>"
            ]
          },
          "metadata": {
            "tags": []
          }
        }
      ]
    },
    {
      "cell_type": "markdown",
      "metadata": {
        "id": "30s1eI2UJEVE"
      },
      "source": [
        "# Step 4: Create Model"
      ]
    },
    {
      "cell_type": "code",
      "metadata": {
        "id": "8zKIe09QDY4x"
      },
      "source": [
        "from tensorflow.keras.layers import Conv2D, MaxPooling2D\n",
        "from tensorflow.keras.layers import Dropout, Flatten, Input, Dense\n",
        "from tensorflow.keras.models import Sequential\n",
        "\n"
      ],
      "execution_count": 2,
      "outputs": []
    },
    {
      "cell_type": "markdown",
      "metadata": {
        "id": "VUguTvp2JEVH"
      },
      "source": [
        "# Step 5: Train the Model"
      ]
    },
    {
      "cell_type": "code",
      "metadata": {
        "id": "KphM5qzVJEVI"
      },
      "source": [
        ""
      ],
      "execution_count": 2,
      "outputs": []
    },
    {
      "cell_type": "markdown",
      "metadata": {
        "id": "IUKNKsFdJEVK"
      },
      "source": [
        "# Step 6: Final Predictions"
      ]
    },
    {
      "cell_type": "code",
      "metadata": {
        "id": "2TCVPpVnJEVK"
      },
      "source": [
        ""
      ],
      "execution_count": 2,
      "outputs": []
    },
    {
      "cell_type": "code",
      "metadata": {
        "id": "w3xtNdyTIlL7"
      },
      "source": [
        ""
      ],
      "execution_count": 2,
      "outputs": []
    },
    {
      "cell_type": "code",
      "metadata": {
        "id": "0Q4iRKBkJEVM"
      },
      "source": [
        ""
      ],
      "execution_count": null,
      "outputs": []
    },
    {
      "cell_type": "code",
      "metadata": {
        "id": "XXaOsNZpJEVO"
      },
      "source": [
        ""
      ],
      "execution_count": null,
      "outputs": []
    },
    {
      "cell_type": "code",
      "metadata": {
        "id": "SFgb45jrJEVQ"
      },
      "source": [
        ""
      ],
      "execution_count": null,
      "outputs": []
    },
    {
      "cell_type": "code",
      "metadata": {
        "id": "8VFi39aVJ8I2"
      },
      "source": [
        ""
      ],
      "execution_count": 2,
      "outputs": []
    }
  ]
}