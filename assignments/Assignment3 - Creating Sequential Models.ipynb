{
 "cells": [
  {
   "cell_type": "markdown",
   "metadata": {},
   "source": [
    "# Week 4 Assignment Exercises\n",
    "\n",
    "Week 4 Assignment powerpoint file တွင် ပေးထားသည့် model architecture များအတိုင်း Sequential Model များတည်ဆောက်ပေးပါ။\n",
    "\n",
    "၁. သက်ဆိုင်ရာနေရာများတွင် မိမိ code ဖြည့်သွင်းပါ။\n",
    "\n",
    "၂. Code ရေးပြီးလျှင် cell ကို run ပါ။\n",
    "\n",
    "၃. Notebook File ကို upload ပေးပါ။\n",
    "\n",
    "Note : အချို့ပုံများတွင် Layer များ၌ Bias Vector များ မပါဝင်သော်လည်း Sequential Model တည်ဆောက်သည့်အခါ layer များ၌ Bias Vector များထည့်သွင်းပေးပါ။ Dense Layer တွင် Bias Vector များသည် Default အားဖြင့်ပါဝင်ပြီးသားဖြစ်သည်။\n",
    "Bias Vector မထည့်သွင်းလိုပါက Dense Layer တွင် use_bias parameter အား false ဟူ၍ပြောင်းပေးပါ။"
   ]
  },
  {
   "cell_type": "markdown",
   "metadata": {
    "colab": {},
    "colab_type": "code",
    "collapsed": true,
    "id": "ug-wCIQwKoQi"
   },
   "source": [
    "### Exercise 1"
   ]
  },
  {
   "cell_type": "code",
   "execution_count": null,
   "metadata": {},
   "outputs": [],
   "source": [
    "from tensorflow.keras import Sequential\n",
    "from tensorflow.keras.layers import Dense\n",
    "\n",
    "model = Sequential([\n",
    "    # ဒီနေရာမှာ code စရေးပါ \n",
    "])\n",
    "\n",
    "model.summary()\n",
    "\n",
    "# Expected Output\n",
    "# Total params: 43"
   ]
  },
  {
   "cell_type": "markdown",
   "metadata": {},
   "source": [
    "### Exercise 2"
   ]
  },
  {
   "cell_type": "code",
   "execution_count": null,
   "metadata": {},
   "outputs": [],
   "source": [
    "from tensorflow.keras import Sequential\n",
    "from tensorflow.keras.layers import Dense\n",
    "\n",
    "model = Sequential([\n",
    "    # ဒီနေရာမှာ code စရေးပါ \n",
    "])\n",
    "\n",
    "model.summary()\n",
    "\n",
    "# Expected Output\n",
    "# Total params: 73"
   ]
  },
  {
   "cell_type": "markdown",
   "metadata": {},
   "source": [
    "### Exercise 3"
   ]
  },
  {
   "cell_type": "code",
   "execution_count": null,
   "metadata": {},
   "outputs": [],
   "source": [
    "from tensorflow.keras import Sequential\n",
    "from tensorflow.keras.layers import Dense\n",
    "\n",
    "model = Sequential([\n",
    "    # ဒီနေရာမှာ code စရေးပါ \n",
    "])\n",
    "\n",
    "model.summary()\n",
    "\n",
    "# Expected Output\n",
    "# Total params: 16"
   ]
  },
  {
   "cell_type": "markdown",
   "metadata": {},
   "source": [
    "### Exercise 4"
   ]
  },
  {
   "cell_type": "code",
   "execution_count": null,
   "metadata": {},
   "outputs": [],
   "source": [
    "from tensorflow.keras import Sequential\n",
    "from tensorflow.keras.layers import Dense\n",
    "\n",
    "model = Sequential([\n",
    "    # ဒီနေရာမှာ code စရေးပါ \n",
    "])\n",
    "\n",
    "model.summary()\n",
    "\n",
    "# Expected Output\n",
    "# Total params: 26"
   ]
  },
  {
   "cell_type": "markdown",
   "metadata": {},
   "source": [
    "### Exercise 5"
   ]
  },
  {
   "cell_type": "code",
   "execution_count": null,
   "metadata": {},
   "outputs": [],
   "source": [
    "from tensorflow.keras import Sequential\n",
    "from tensorflow.keras.layers import Dense, Flatten\n",
    "\n",
    "model = Sequential([\n",
    "    # ဒီနေရာမှာ code စရေးပါ \n",
    "])\n",
    "\n",
    "model.summary()\n",
    "\n",
    "# Expected Output\n",
    "# Total params: 78"
   ]
  },
  {
   "cell_type": "markdown",
   "metadata": {},
   "source": [
    "### Exercise 6"
   ]
  },
  {
   "cell_type": "code",
   "execution_count": null,
   "metadata": {},
   "outputs": [],
   "source": [
    "from tensorflow.keras import Sequential\n",
    "from tensorflow.keras.layers import Dense, Flatten, Conv2D, MaxPooling2D, Dropout\n",
    "\n",
    "# n1 = 16\n",
    "# n2 = 32\n",
    "# n3 = 128\n",
    "# dropout rate = 0.3\n",
    "\n",
    "model = Sequential([\n",
    "        # ဒီနေရာမှာ code စရေးပါ \n",
    "    ])\n",
    "\n",
    "model.summary()\n",
    "\n",
    "# Expected Output\n",
    "# Total params: 80,202"
   ]
  }
 ],
 "metadata": {
  "colab": {
   "collapsed_sections": [],
   "name": "Coding Tutorial.ipynb",
   "provenance": []
  },
  "kernelspec": {
   "display_name": "Python 3",
   "language": "python",
   "name": "python3"
  },
  "language_info": {
   "codemirror_mode": {
    "name": "ipython",
    "version": 3
   },
   "file_extension": ".py",
   "mimetype": "text/x-python",
   "name": "python",
   "nbconvert_exporter": "python",
   "pygments_lexer": "ipython3",
   "version": "3.7.6"
  }
 },
 "nbformat": 4,
 "nbformat_minor": 1
}
