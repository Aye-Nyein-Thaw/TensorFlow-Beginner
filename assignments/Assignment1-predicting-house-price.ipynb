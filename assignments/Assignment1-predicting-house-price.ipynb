{
  "nbformat": 4,
  "nbformat_minor": 0,
  "metadata": {
    "coursera": {
      "course_slug": "introduction-tensorflow",
      "graded_item_id": "jRjw8",
      "launcher_item_id": "YoQKl"
    },
    "kernelspec": {
      "display_name": "Python 3",
      "language": "python",
      "name": "python3"
    },
    "language_info": {
      "codemirror_mode": {
        "name": "ipython",
        "version": 3
      },
      "file_extension": ".py",
      "mimetype": "text/x-python",
      "name": "python",
      "nbconvert_exporter": "python",
      "pygments_lexer": "ipython3",
      "version": "3.6.8"
    },
    "colab": {
      "name": "Assignment1 - predicting house price(question).ipynb",
      "provenance": [],
      "collapsed_sections": []
    }
  },
  "cells": [
    {
      "cell_type": "markdown",
      "metadata": {
        "id": "fK8bT2C5gfsX"
      },
      "source": [
        "<figure>\n",
        "<center>\n",
        "<img src='https://raw.githubusercontent.com/alexsnowschool/TensorFlow-Beginner/main/project_img.png' width = '800px'/>\n",
        "</center>        \n",
        "</figure>"
      ]
    },
    {
      "cell_type": "markdown",
      "metadata": {
        "id": "iKCDRURpTGFO"
      },
      "source": [
        "## Assignment 1 - Predicting House Price (Simple Linear Regression)"
      ]
    },
    {
      "cell_type": "markdown",
      "metadata": {
        "id": "nGxx1Yfn3tKe"
      },
      "source": [
        "<figure>\n",
        "<center>\n",
        "<img src='https://miro.medium.com/max/402/1*D6s2K1y7kjE14swcgITB1w.png' width = '500px'/>\n",
        "</center>        \n",
        "</figure>"
      ]
    },
    {
      "cell_type": "markdown",
      "metadata": {
        "id": "mw2VBrBcgvGa"
      },
      "source": [
        "**ဒီ Assignment 1 မှာတော့ House Price တွေရဲ့စျေးနှုန်းတွေကို Simple Neural Network ကိုဆောက်ပြီးလုပ်ရမှာဖြစ်ပါတယ်။ ။**\n",
        "\n",
        "ဥပမာ - bedroom တစ်ခုပါတဲ့အိမ်ကို 100k price ၊ bedroom နှစ်ခုပါတဲ့ အိမ်က 150k price ၊ bedroom သုံးခုပါတဲ့အိမ်က 200k price ရှိတယ်။ \n",
        "\n",
        "Bedroom 7 ခုပါတဲ့အိမ်ရဲ့တန်ဖိုး(400k price)ကို Neural Network ဆောက်ပြီး prediction ပါ။\n",
        "\n",
        "**Hint** : အိမ်ရဲ့ price ကို 100k ဆိုရင် 1.0 ထားပြီး 150k ဆိုရင် 1.5 လို့ထားပြီး prediction လုပ်ပါ။\n",
        "\n",
        "**Another hint**: price, no of bedroom"
      ]
    },
    {
      "cell_type": "markdown",
      "metadata": {
        "id": "BltvblCbIwgZ"
      },
      "source": [
        "\n",
        "\n",
        "---\n",
        "\n"
      ]
    },
    {
      "cell_type": "code",
      "metadata": {
        "id": "oI_zQcKeIq3-"
      },
      "source": [
        "import tensorflow as tf\n",
        "import numpy as np\n",
        "from tensorflow import keras"
      ],
      "execution_count": null,
      "outputs": []
    },
    {
      "cell_type": "code",
      "metadata": {
        "id": "EUfoDZZg6unc"
      },
      "source": [
        "# ဒီနေရာမှာ code စရေးပါ :)"
      ],
      "execution_count": 1,
      "outputs": []
    }
  ]
}