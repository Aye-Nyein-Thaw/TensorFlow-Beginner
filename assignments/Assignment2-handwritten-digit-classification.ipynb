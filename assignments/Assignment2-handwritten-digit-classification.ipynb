{
  "nbformat": 4,
  "nbformat_minor": 0,
  "metadata": {
    "kernelspec": {
      "display_name": "Python 3",
      "language": "python",
      "name": "python3"
    },
    "language_info": {
      "codemirror_mode": {
        "name": "ipython",
        "version": 3
      },
      "file_extension": ".py",
      "mimetype": "text/x-python",
      "name": "python",
      "nbconvert_exporter": "python",
      "pygments_lexer": "ipython3",
      "version": "3.7.3"
    },
    "colab": {
      "name": "Assignment2-hand-written-digit-classification(question).ipynb",
      "provenance": [],
      "collapsed_sections": [
        "lD9m0t7FPNFa",
        "PB9bOIz5PRTh",
        "WCl64rjhPTSI",
        "xW_Ww8UbPY_n",
        "YgVTX07BPb29"
      ]
    }
  },
  "cells": [
    {
      "cell_type": "markdown",
      "metadata": {
        "id": "aqka5G8NEOBO"
      },
      "source": [
        "<figure>\n",
        "<center>\n",
        "<img src='https://raw.githubusercontent.com/alexsnowschool/TensorFlow-Beginner/main/project_img.png' width = '800px'/>\n",
        "</center>        \n",
        "</figure>"
      ]
    },
    {
      "cell_type": "markdown",
      "metadata": {
        "id": "hg5TKbqlEOBQ"
      },
      "source": [
        "# Assignment2 - Hand Written Digit Classification\n",
        "\n",
        "**ဒီ Assignment 2 မှာကတော့ MNIST ရဲ့ hand written digit dataset ကို သုံးပြီး digit classification လုပ်ရမှာပါ။ Convolutional Neural Network ကိုမသုံးပဲ simple neural network(Input Layer, Hidden Layers, Output Layer) ကိုဆောက်ပြီး classify လုပ်ရမှာပါ။**\n",
        "\n",
        "**Target Goal - 97% Accuracy on Evaluation**\n",
        "\n",
        "\n",
        "![Hand Written Digits Classification](https://drive.google.com/uc?id=1zh54XCYH6Re4DkiX0dZT0SCB7xDlq_kh)"
      ]
    },
    {
      "cell_type": "markdown",
      "metadata": {
        "id": "lD9m0t7FPNFa"
      },
      "source": [
        "##Task 1: လိုအပ်တဲ့ library တွေခေါ်ပါ။\n"
      ]
    },
    {
      "cell_type": "code",
      "metadata": {
        "id": "8KQ5zwA4PtW7"
      },
      "source": [
        "# ဒီနေရာမှာ code စရေးပါ :)\n"
      ],
      "execution_count": null,
      "outputs": []
    },
    {
      "cell_type": "markdown",
      "metadata": {
        "id": "PB9bOIz5PRTh"
      },
      "source": [
        "##Task 2: Load, Explore and Normalize Dataset\n",
        "\n",
        "1.   Load MNIST Handwritten digit dataset (Can search in TF Documentation)\n",
        "2.   X train, Y train, X test and Y test တို့ရဲ့ shape ကို print ထုတ်ပါ။\n",
        "3.   **matplotlib library** ကိုသုံးပြီး x train dataset ထဲက index 0 မှာရှိတဲ့ပုံတစ်ပုံကို show လုပ်ပါ။\n",
        "4.   Y train ရဲ့ index 0 မှာရှိတဲ့ label ကို print ထုတ်ပါ။ \n",
        "5.   အထက်ပါ x train[0] နှင့် y train[0] ကို ကြည့်ခြင်းဖြင့် ပုံနှင့်label ဟာတူကြောင်းသိနိုင်သည်။\n",
        "6.   y_train မှာရှိတဲ့ **unique ဖြစ်တဲ့ label တွေကိုသာ** print ထုတ်ပါ။\n",
        "7.   Normalize X train and X test data\n",
        "8.   ပြီးရင် **output result ကိုသာ** screenshot ရိုက်ပြီးသိမ်းထားပါ။\n",
        "\n",
        "\n"
      ]
    },
    {
      "cell_type": "code",
      "metadata": {
        "id": "5oh1r0tDQExh"
      },
      "source": [
        "# ဒီနေရာမှာ code စရေးပါ :)\n"
      ],
      "execution_count": 1,
      "outputs": []
    },
    {
      "cell_type": "markdown",
      "metadata": {
        "id": "WCl64rjhPTSI"
      },
      "source": [
        "\n",
        "##Task 3: Model ဆောက်ပါ။\n",
        "\n",
        "\n",
        "1.   Hidden Layer 2 ခုနှင့် Output Layer တစ်ခုပါတဲ့ Neural Network ကိုဆောက်ရပါမယ်။\n",
        "\n",
        "2.   Input Dataset ​၏ shape ကို 1D vector အနေနဲ့ compress လုပ်ပါ။ \n",
        "\n",
        "3.   Hidden Layers နှင့် output layer တို့တွင်သုံးမယ့် Neuron အရေအတွက်၊ activation function အမျိုးစားကို မိမိသင့်လျော်မယ်ထင်တာရွေးပြီး model ဆောက်ပါ။ \n",
        "\n",
        "4.   Model ရဲ့ summary ထုတ်ကြည့်ပါ။ \n",
        "5.   ပြီးရင် **output result ကိုသာ** screenshot ရိုက်ပြီးသိမ်းထားပါ။\n",
        "\n",
        "\n",
        "\n"
      ]
    },
    {
      "cell_type": "code",
      "metadata": {
        "id": "Yy3izARhUC6B"
      },
      "source": [
        "# ဒီနေရာမှာ code စရေးပါ :)"
      ],
      "execution_count": 2,
      "outputs": []
    },
    {
      "cell_type": "markdown",
      "metadata": {
        "id": "GZfJ_hKKPVAI"
      },
      "source": [
        "##Task 4: Model Compile လုပ်ပါ။\n",
        "\n",
        "\n",
        "\n",
        "1.   မိမိသင့်လျော်မယ်ထင်တဲ့ optimizer and loss function ကိုရွေးပြီး compile လုပ်ပါ။ \n",
        "2.   Metrics ကို accuracy လို့ထားပါ။\n",
        "\n",
        " \n",
        "\n",
        "\n",
        "\n"
      ]
    },
    {
      "cell_type": "code",
      "metadata": {
        "id": "eeKhWD-1XWTV"
      },
      "source": [
        "# ဒီနေရာမှာ code စရေးပါ :)"
      ],
      "execution_count": null,
      "outputs": []
    },
    {
      "cell_type": "markdown",
      "metadata": {
        "id": "xW_Ww8UbPY_n"
      },
      "source": [
        "\n",
        "##Task 5: Train and Evalaute Model \n",
        "\n",
        "\n",
        "1.   Model ဆောက်ပြီးသားကို train ပါ။ \n",
        "\n",
        "2.   Epoch ရေအတွက်ကို မိမိသင့်လျော်မယ်ထင်တာသတ်မှတ်ပါ။ \n",
        "\n",
        "3.   Train ပြီးသား model ကို evaluate လုပ်ပါ။ \n",
        "\n",
        "4.   Evaluate ထားတဲ့ accuracy ကို print ထုတ်ပါ။\n",
        "5.   ပြီးရင် **output result ကိုသာ** screenshot ရိုက်ပြီးသိမ်းထားပါ။ \n",
        "\n",
        "\n",
        "\n"
      ]
    },
    {
      "cell_type": "code",
      "metadata": {
        "id": "9SHPyNRQYSac"
      },
      "source": [
        "# ဒီနေရာမှာ code စရေးပါ :)"
      ],
      "execution_count": 3,
      "outputs": []
    },
    {
      "cell_type": "markdown",
      "metadata": {
        "id": "u1S5DDgRzXNg"
      },
      "source": [
        "## Congratulations! You have done Assignment 2! 🥳 👏\n",
        "**Output result screenshot image များအားလုံးကို zip ချုပ်ပါ။ zip file ကိုသာ upload ပေးပါ။**"
      ]
    }
  ]
}